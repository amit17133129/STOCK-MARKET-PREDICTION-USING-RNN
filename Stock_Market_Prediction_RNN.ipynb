{
  "nbformat": 4,
  "nbformat_minor": 0,
  "metadata": {
    "colab": {
      "name": "Stock_Market_Prediction_RNN.ipynb",
      "provenance": [],
      "authorship_tag": "ABX9TyMrHKc4fy4Fqv8DgKSH/WDL",
      "include_colab_link": true
    },
    "kernelspec": {
      "name": "python3",
      "display_name": "Python 3"
    }
  },
  "cells": [
    {
      "cell_type": "markdown",
      "metadata": {
        "id": "view-in-github",
        "colab_type": "text"
      },
      "source": [
        "<a href=\"https://colab.research.google.com/github/amit17133129/STOCK-MARKET-PREDICTION-USING-RNN/blob/master/Stock_Market_Prediction_RNN.ipynb\" target=\"_parent\"><img src=\"https://colab.research.google.com/assets/colab-badge.svg\" alt=\"Open In Colab\"/></a>"
      ]
    },
    {
      "cell_type": "code",
      "metadata": {
        "id": "TnVg0uzxxPcS",
        "colab_type": "code",
        "colab": {}
      },
      "source": [
        "import pandas as pd\n",
        "import numpy as np"
      ],
      "execution_count": null,
      "outputs": []
    },
    {
      "cell_type": "code",
      "metadata": {
        "id": "3rrML7KAxZ8a",
        "colab_type": "code",
        "colab": {
          "base_uri": "https://localhost:8080/",
          "height": 282
        },
        "outputId": "ffcc5653-6228-4f8a-c868-3fd434914783"
      },
      "source": [
        "data_train= pd.read_csv(\"/content/Google_Stock_Price_Train.csv\")\n",
        "data_train['Open'].plot()"
      ],
      "execution_count": null,
      "outputs": [
        {
          "output_type": "execute_result",
          "data": {
            "text/plain": [
              "<matplotlib.axes._subplots.AxesSubplot at 0x7f0fcf0fbc88>"
            ]
          },
          "metadata": {
            "tags": []
          },
          "execution_count": 2
        },
        {
          "output_type": "display_data",
          "data": {
            "image/png": "[encoded data removed]",
            "text/plain": [
              "<Figure size 432x288 with 1 Axes>"
            ]
          },
          "metadata": {
            "tags": [],
            "needs_background": "light"
          }
        }
      ]
    },
    {
      "cell_type": "code",
      "metadata": {
        "id": "RYPoIThMZb_X",
        "colab_type": "code",
        "colab": {}
      },
      "source": [
        "data_test = pd.read_csv(\"/content/Google_Stock_Price_Test.csv\")"
      ],
      "execution_count": null,
      "outputs": []
    },
    {
      "cell_type": "code",
      "metadata": {
        "id": "sy_c9biyagGH",
        "colab_type": "code",
        "colab": {}
      },
      "source": [
        "real_stock_price = data_test[ ['Open'] ]"
      ],
      "execution_count": null,
      "outputs": []
    },
    {
      "cell_type": "code",
      "metadata": {
        "id": "I92Noid_Nvjl",
        "colab_type": "code",
        "colab": {}
      },
      "source": [
        "a = data_train['Open']\n",
        "b = np.array(a)\n",
        "c = np.reshape(b, (-1, 1))"
      ],
      "execution_count": null,
      "outputs": []
    },
    {
      "cell_type": "code",
      "metadata": {
        "id": "DL4Od2iFxiPJ",
        "colab_type": "code",
        "colab": {}
      },
      "source": [
        "from sklearn.preprocessing import MinMaxScaler\n",
        "sc = MinMaxScaler(feature_range = (0,1))"
      ],
      "execution_count": null,
      "outputs": []
    },
    {
      "cell_type": "code",
      "metadata": {
        "id": "XTSBo5H5NWHl",
        "colab_type": "code",
        "colab": {
          "base_uri": "https://localhost:8080/",
          "height": 138
        },
        "outputId": "499b4400-931f-4207-fa08-67049af320da"
      },
      "source": [
        "training_data = sc.fit_transform(c)\n",
        "training_data"
      ],
      "execution_count": null,
      "outputs": [
        {
          "output_type": "execute_result",
          "data": {
            "text/plain": [
              "array([[0.08581368],\n",
              "       [0.09701243],\n",
              "       [0.09433366],\n",
              "       ...,\n",
              "       [0.95725128],\n",
              "       [0.93796041],\n",
              "       [0.93688146]])"
            ]
          },
          "metadata": {
            "tags": []
          },
          "execution_count": 7
        }
      ]
    },
    {
      "cell_type": "code",
      "metadata": {
        "id": "Y5Ez4WDIxqNg",
        "colab_type": "code",
        "colab": {
          "base_uri": "https://localhost:8080/",
          "height": 34
        },
        "outputId": "4fbe3654-4a07-4028-a3e0-47c5dabccad6"
      },
      "source": [
        "len(training_data)"
      ],
      "execution_count": null,
      "outputs": [
        {
          "output_type": "execute_result",
          "data": {
            "text/plain": [
              "1258"
            ]
          },
          "metadata": {
            "tags": []
          },
          "execution_count": 8
        }
      ]
    },
    {
      "cell_type": "code",
      "metadata": {
        "id": "LqkeB0ahyEpk",
        "colab_type": "code",
        "colab": {}
      },
      "source": [
        "X_train = []\n",
        "y_train = []"
      ],
      "execution_count": null,
      "outputs": []
    },
    {
      "cell_type": "code",
      "metadata": {
        "id": "wPE69-kfyG2m",
        "colab_type": "code",
        "colab": {}
      },
      "source": [
        "for i in range(60, 1258):\n",
        "  X_train.append(training_data[i-60:i, 0])\n",
        "  y_train.append(training_data[i,0])"
      ],
      "execution_count": null,
      "outputs": []
    },
    {
      "cell_type": "code",
      "metadata": {
        "id": "UB-d8PXPyKqQ",
        "colab_type": "code",
        "colab": {}
      },
      "source": [
        ""
      ],
      "execution_count": null,
      "outputs": []
    },
    {
      "cell_type": "code",
      "metadata": {
        "id": "dpbd2LfQX8cN",
        "colab_type": "code",
        "colab": {
          "base_uri": "https://localhost:8080/",
          "height": 51
        },
        "outputId": "a33797d2-baa8-4edf-85f9-7623fbfdd82f"
      },
      "source": [
        "X_train = np.array(X_train)\n",
        "y_train = np.array(y_train)\n",
        "print(\"X_train : \",X_train.shape)\n",
        "print(\"y_train : \",y_train.shape)"
      ],
      "execution_count": null,
      "outputs": [
        {
          "output_type": "stream",
          "text": [
            "X_train :  (1198, 60)\n",
            "y_train :  (1198,)\n"
          ],
          "name": "stdout"
        }
      ]
    },
    {
      "cell_type": "code",
      "metadata": {
        "id": "gwH6qBrBYpGs",
        "colab_type": "code",
        "colab": {}
      },
      "source": [
        "X_train = np.reshape(X_train, (X_train.shape[0], X_train.shape[1], 1))"
      ],
      "execution_count": null,
      "outputs": []
    },
    {
      "cell_type": "code",
      "metadata": {
        "id": "ze2VAaruZrDS",
        "colab_type": "code",
        "colab": {
          "base_uri": "https://localhost:8080/",
          "height": 34
        },
        "outputId": "a25e9550-47f3-4c7c-f87a-eabdc70dc6a2"
      },
      "source": [
        "from keras.models import Sequential\n",
        "from keras.layers import Dense\n",
        "from keras.layers import LSTM\n",
        "from keras.layers import Dropout\n",
        "model = Sequential()"
      ],
      "execution_count": null,
      "outputs": [
        {
          "output_type": "stream",
          "text": [
            "Using TensorFlow backend.\n"
          ],
          "name": "stderr"
        }
      ]
    },
    {
      "cell_type": "code",
      "metadata": {
        "id": "i2-CuObNZ8iM",
        "colab_type": "code",
        "colab": {}
      },
      "source": [
        "model.add(LSTM(units=60, return_sequences=True, input_shape = (X_train.shape[1],1)))\n",
        "model.add(Dropout(0.2))"
      ],
      "execution_count": null,
      "outputs": []
    },
    {
      "cell_type": "code",
      "metadata": {
        "id": "V1jVpMP0bo-M",
        "colab_type": "code",
        "colab": {
          "base_uri": "https://localhost:8080/",
          "height": 51
        },
        "outputId": "d1971a7b-8822-44c0-f519-9d74a52dd8fc"
      },
      "source": [
        "model.layers"
      ],
      "execution_count": null,
      "outputs": [
        {
          "output_type": "execute_result",
          "data": {
            "text/plain": [
              "[<keras.layers.recurrent.LSTM at 0x7f0f8596de80>,\n",
              " <keras.layers.core.Dropout at 0x7f0f8596de48>]"
            ]
          },
          "metadata": {
            "tags": []
          },
          "execution_count": 15
        }
      ]
    },
    {
      "cell_type": "code",
      "metadata": {
        "id": "SUukRnq7bylr",
        "colab_type": "code",
        "colab": {}
      },
      "source": [
        "model.add(LSTM(units = 60))\n",
        "model.add(Dropout(0.2))"
      ],
      "execution_count": null,
      "outputs": []
    },
    {
      "cell_type": "code",
      "metadata": {
        "id": "FdRpEkLob9pD",
        "colab_type": "code",
        "colab": {}
      },
      "source": [
        "model.add(Dense(units = 1))\n",
        "model.add(Dropout(0.2))"
      ],
      "execution_count": null,
      "outputs": []
    },
    {
      "cell_type": "code",
      "metadata": {
        "id": "tkefU5lBcEPB",
        "colab_type": "code",
        "colab": {
          "base_uri": "https://localhost:8080/",
          "height": 121
        },
        "outputId": "ffc71d93-f47e-4ede-ae93-fb585422dd0b"
      },
      "source": [
        "model.layers"
      ],
      "execution_count": null,
      "outputs": [
        {
          "output_type": "execute_result",
          "data": {
            "text/plain": [
              "[<keras.layers.recurrent.LSTM at 0x7f0f8596de80>,\n",
              " <keras.layers.core.Dropout at 0x7f0f8596de48>,\n",
              " <keras.layers.recurrent.LSTM at 0x7f0f7cbcae10>,\n",
              " <keras.layers.core.Dropout at 0x7f0f7cbcaf28>,\n",
              " <keras.layers.core.Dense at 0x7f0f7cbd5e48>,\n",
              " <keras.layers.core.Dropout at 0x7f0f7cbd5da0>]"
            ]
          },
          "metadata": {
            "tags": []
          },
          "execution_count": 18
        }
      ]
    },
    {
      "cell_type": "code",
      "metadata": {
        "id": "mbrF1oK6cIcF",
        "colab_type": "code",
        "colab": {}
      },
      "source": [
        "model.compile(optimizer='adam', loss = 'mean_squared_error')"
      ],
      "execution_count": null,
      "outputs": []
    },
    {
      "cell_type": "code",
      "metadata": {
        "id": "U2I04eNBcalG",
        "colab_type": "code",
        "colab": {
          "base_uri": "https://localhost:8080/",
          "height": 1000
        },
        "outputId": "f6e7de39-578b-4a8b-f74c-c1b998c5dcd3"
      },
      "source": [
        "model.fit(X_train, y_train, epochs=100)"
      ],
      "execution_count": null,
      "outputs": [
        {
          "output_type": "stream",
          "text": [
            "Epoch 1/100\n",
            "1198/1198 [==============================] - 3s 3ms/step - loss: 0.0958\n",
            "Epoch 2/100\n",
            "1198/1198 [==============================] - 3s 2ms/step - loss: 0.0660\n",
            "Epoch 3/100\n",
            "1198/1198 [==============================] - 3s 2ms/step - loss: 0.0666\n",
            "Epoch 4/100\n",
            "1198/1198 [==============================] - 3s 2ms/step - loss: 0.0684\n",
            "Epoch 5/100\n",
            "1198/1198 [==============================] - 3s 2ms/step - loss: 0.0664\n",
            "Epoch 6/100\n",
            "1198/1198 [==============================] - 3s 2ms/step - loss: 0.0690\n",
            "Epoch 7/100\n",
            "1198/1198 [==============================] - 3s 2ms/step - loss: 0.0631\n",
            "Epoch 8/100\n",
            "1198/1198 [==============================] - 3s 2ms/step - loss: 0.0738\n",
            "Epoch 9/100\n",
            "1198/1198 [==============================] - 3s 2ms/step - loss: 0.0605\n",
            "Epoch 10/100\n",
            "1198/1198 [==============================] - 3s 2ms/step - loss: 0.0615\n",
            "Epoch 11/100\n",
            "1198/1198 [==============================] - 3s 2ms/step - loss: 0.0601\n",
            "Epoch 12/100\n",
            "1198/1198 [==============================] - 3s 2ms/step - loss: 0.0708\n",
            "Epoch 13/100\n",
            "1198/1198 [==============================] - 3s 2ms/step - loss: 0.0701\n",
            "Epoch 14/100\n",
            "1198/1198 [==============================] - 3s 2ms/step - loss: 0.0685\n",
            "Epoch 15/100\n",
            "1198/1198 [==============================] - 3s 2ms/step - loss: 0.0627\n",
            "Epoch 16/100\n",
            "1198/1198 [==============================] - 3s 2ms/step - loss: 0.0630\n",
            "Epoch 17/100\n",
            "1198/1198 [==============================] - 3s 2ms/step - loss: 0.0677\n",
            "Epoch 18/100\n",
            "1198/1198 [==============================] - 3s 2ms/step - loss: 0.0776\n",
            "Epoch 19/100\n",
            "1198/1198 [==============================] - 3s 2ms/step - loss: 0.0601\n",
            "Epoch 20/100\n",
            "1198/1198 [==============================] - 3s 2ms/step - loss: 0.0592\n",
            "Epoch 21/100\n",
            "1198/1198 [==============================] - 3s 2ms/step - loss: 0.0595\n",
            "Epoch 22/100\n",
            "1198/1198 [==============================] - 3s 2ms/step - loss: 0.0556\n",
            "Epoch 23/100\n",
            "1198/1198 [==============================] - 3s 2ms/step - loss: 0.0590\n",
            "Epoch 24/100\n",
            "1198/1198 [==============================] - 3s 2ms/step - loss: 0.0647\n",
            "Epoch 25/100\n",
            "1198/1198 [==============================] - 3s 2ms/step - loss: 0.0668\n",
            "Epoch 26/100\n",
            "1198/1198 [==============================] - 3s 2ms/step - loss: 0.0630\n",
            "Epoch 27/100\n",
            "1198/1198 [==============================] - 3s 2ms/step - loss: 0.0683\n",
            "Epoch 28/100\n",
            "1198/1198 [==============================] - 3s 2ms/step - loss: 0.0706\n",
            "Epoch 29/100\n",
            "1198/1198 [==============================] - 3s 2ms/step - loss: 0.0751\n",
            "Epoch 30/100\n",
            "1198/1198 [==============================] - 3s 2ms/step - loss: 0.0628\n",
            "Epoch 31/100\n",
            "1198/1198 [==============================] - 3s 2ms/step - loss: 0.0710\n",
            "Epoch 32/100\n",
            "1198/1198 [==============================] - 3s 2ms/step - loss: 0.0658\n",
            "Epoch 33/100\n",
            "1198/1198 [==============================] - 3s 2ms/step - loss: 0.0693\n",
            "Epoch 34/100\n",
            "1198/1198 [==============================] - 3s 2ms/step - loss: 0.0622\n",
            "Epoch 35/100\n",
            "1198/1198 [==============================] - 3s 2ms/step - loss: 0.0684\n",
            "Epoch 36/100\n",
            "1198/1198 [==============================] - 3s 2ms/step - loss: 0.0697\n",
            "Epoch 37/100\n",
            "1198/1198 [==============================] - 3s 2ms/step - loss: 0.0594\n",
            "Epoch 38/100\n",
            "1198/1198 [==============================] - 3s 2ms/step - loss: 0.0779\n",
            "Epoch 39/100\n",
            "1198/1198 [==============================] - 3s 2ms/step - loss: 0.0630\n",
            "Epoch 40/100\n",
            "1198/1198 [==============================] - 3s 2ms/step - loss: 0.0612\n",
            "Epoch 41/100\n",
            "1198/1198 [==============================] - 3s 2ms/step - loss: 0.0712\n",
            "Epoch 42/100\n",
            "1198/1198 [==============================] - 3s 2ms/step - loss: 0.0637\n",
            "Epoch 43/100\n",
            "1198/1198 [==============================] - 3s 2ms/step - loss: 0.0680\n",
            "Epoch 44/100\n",
            "1198/1198 [==============================] - 3s 2ms/step - loss: 0.0572\n",
            "Epoch 45/100\n",
            "1198/1198 [==============================] - 3s 2ms/step - loss: 0.0617\n",
            "Epoch 46/100\n",
            "1198/1198 [==============================] - 3s 2ms/step - loss: 0.0621\n",
            "Epoch 47/100\n",
            "1198/1198 [==============================] - 3s 2ms/step - loss: 0.0607\n",
            "Epoch 48/100\n",
            "1198/1198 [==============================] - 3s 2ms/step - loss: 0.0634\n",
            "Epoch 49/100\n",
            "1198/1198 [==============================] - 3s 2ms/step - loss: 0.0645\n",
            "Epoch 50/100\n",
            "1198/1198 [==============================] - 3s 2ms/step - loss: 0.0654\n",
            "Epoch 51/100\n",
            "1198/1198 [==============================] - 3s 2ms/step - loss: 0.0687\n",
            "Epoch 52/100\n",
            "1198/1198 [==============================] - 3s 2ms/step - loss: 0.0610\n",
            "Epoch 53/100\n",
            "1198/1198 [==============================] - 3s 2ms/step - loss: 0.0630\n",
            "Epoch 54/100\n",
            "1198/1198 [==============================] - 3s 2ms/step - loss: 0.0615\n",
            "Epoch 55/100\n",
            "1198/1198 [==============================] - 3s 2ms/step - loss: 0.0651\n",
            "Epoch 56/100\n",
            "1198/1198 [==============================] - 3s 2ms/step - loss: 0.0649\n",
            "Epoch 57/100\n",
            "1198/1198 [==============================] - 3s 2ms/step - loss: 0.0682\n",
            "Epoch 58/100\n",
            "1198/1198 [==============================] - 3s 2ms/step - loss: 0.0665\n",
            "Epoch 59/100\n",
            "1198/1198 [==============================] - 3s 2ms/step - loss: 0.0681\n",
            "Epoch 60/100\n",
            "1198/1198 [==============================] - 3s 2ms/step - loss: 0.0680\n",
            "Epoch 61/100\n",
            "1198/1198 [==============================] - 3s 2ms/step - loss: 0.0638\n",
            "Epoch 62/100\n",
            "1198/1198 [==============================] - 3s 2ms/step - loss: 0.0636\n",
            "Epoch 63/100\n",
            "1198/1198 [==============================] - 3s 2ms/step - loss: 0.0635\n",
            "Epoch 64/100\n",
            "1198/1198 [==============================] - 3s 2ms/step - loss: 0.0687\n",
            "Epoch 65/100\n",
            "1198/1198 [==============================] - 3s 2ms/step - loss: 0.0568\n",
            "Epoch 66/100\n",
            "1198/1198 [==============================] - 3s 2ms/step - loss: 0.0719\n",
            "Epoch 67/100\n",
            "1198/1198 [==============================] - 3s 2ms/step - loss: 0.0656\n",
            "Epoch 68/100\n",
            "1198/1198 [==============================] - 3s 2ms/step - loss: 0.0615\n",
            "Epoch 69/100\n",
            "1198/1198 [==============================] - 3s 2ms/step - loss: 0.0630\n",
            "Epoch 70/100\n",
            "1198/1198 [==============================] - 3s 2ms/step - loss: 0.0678\n",
            "Epoch 71/100\n",
            "1198/1198 [==============================] - 3s 2ms/step - loss: 0.0667\n",
            "Epoch 72/100\n",
            "1198/1198 [==============================] - 3s 2ms/step - loss: 0.0690\n",
            "Epoch 73/100\n",
            "1198/1198 [==============================] - 3s 2ms/step - loss: 0.0588\n",
            "Epoch 74/100\n",
            "1198/1198 [==============================] - 3s 2ms/step - loss: 0.0698\n",
            "Epoch 75/100\n",
            "1198/1198 [==============================] - 3s 2ms/step - loss: 0.0579\n",
            "Epoch 76/100\n",
            "1198/1198 [==============================] - 3s 2ms/step - loss: 0.0678\n",
            "Epoch 77/100\n",
            "1198/1198 [==============================] - 3s 2ms/step - loss: 0.0747\n",
            "Epoch 78/100\n",
            "1198/1198 [==============================] - 3s 2ms/step - loss: 0.0598\n",
            "Epoch 79/100\n",
            "1198/1198 [==============================] - 3s 2ms/step - loss: 0.0680\n",
            "Epoch 80/100\n",
            "1198/1198 [==============================] - 3s 2ms/step - loss: 0.0671\n",
            "Epoch 81/100\n",
            "1198/1198 [==============================] - 3s 2ms/step - loss: 0.0631\n",
            "Epoch 82/100\n",
            "1198/1198 [==============================] - 3s 2ms/step - loss: 0.0601\n",
            "Epoch 83/100\n",
            "1198/1198 [==============================] - 3s 2ms/step - loss: 0.0602\n",
            "Epoch 84/100\n",
            "1198/1198 [==============================] - 3s 2ms/step - loss: 0.0640\n",
            "Epoch 85/100\n",
            "1198/1198 [==============================] - 3s 2ms/step - loss: 0.0617\n",
            "Epoch 86/100\n",
            "1198/1198 [==============================] - 3s 2ms/step - loss: 0.0643\n",
            "Epoch 87/100\n",
            "1198/1198 [==============================] - 3s 2ms/step - loss: 0.0617\n",
            "Epoch 88/100\n",
            "1198/1198 [==============================] - 3s 2ms/step - loss: 0.0641\n",
            "Epoch 89/100\n",
            "1198/1198 [==============================] - 3s 2ms/step - loss: 0.0645\n",
            "Epoch 90/100\n",
            "1198/1198 [==============================] - 3s 2ms/step - loss: 0.0670\n",
            "Epoch 91/100\n",
            "1198/1198 [==============================] - 3s 2ms/step - loss: 0.0702\n",
            "Epoch 92/100\n",
            "1198/1198 [==============================] - 3s 2ms/step - loss: 0.0622\n",
            "Epoch 93/100\n",
            "1198/1198 [==============================] - 3s 2ms/step - loss: 0.0693\n",
            "Epoch 94/100\n",
            "1198/1198 [==============================] - 3s 2ms/step - loss: 0.0617\n",
            "Epoch 95/100\n",
            "1198/1198 [==============================] - 3s 2ms/step - loss: 0.0596\n",
            "Epoch 96/100\n",
            "1198/1198 [==============================] - 4s 3ms/step - loss: 0.0626\n",
            "Epoch 97/100\n",
            "1198/1198 [==============================] - 4s 4ms/step - loss: 0.0573\n",
            "Epoch 98/100\n",
            "1198/1198 [==============================] - 4s 4ms/step - loss: 0.0644\n",
            "Epoch 99/100\n",
            "1198/1198 [==============================] - 3s 2ms/step - loss: 0.0660\n",
            "Epoch 100/100\n",
            "1198/1198 [==============================] - 3s 2ms/step - loss: 0.0617\n"
          ],
          "name": "stdout"
        },
        {
          "output_type": "execute_result",
          "data": {
            "text/plain": [
              "<keras.callbacks.callbacks.History at 0x7f0f7cb34a90>"
            ]
          },
          "metadata": {
            "tags": []
          },
          "execution_count": 20
        }
      ]
    },
    {
      "cell_type": "code",
      "metadata": {
        "id": "eUDMuBVuchCm",
        "colab_type": "code",
        "colab": {}
      },
      "source": [
        "dataset_total = pd.concat((data_train['Open'], data_test['Open']), axis=0)\n",
        "inputs = dataset_total[len(dataset_total) - len(data_test['Open']) -60:].values\n",
        "inputs = inputs.reshape(-1,1)\n",
        "inputs = sc.transform(inputs)\n",
        "X_test = []\n",
        "for i in range (60, 80):\n",
        "  X_test.append(inputs[i-60:i, 0])\n",
        "X_test = np.array(X_test)\n",
        "X_test = np.reshape(X_test, (X_test.shape[0], X_test.shape[1], 1))\n",
        "predicted_stock_price = model.predict(X_test)\n",
        "predicted_stock_price= sc.inverse_transform(predicted_stock_price)"
      ],
      "execution_count": null,
      "outputs": []
    },
    {
      "cell_type": "code",
      "metadata": {
        "id": "j7HG7iopQETT",
        "colab_type": "code",
        "colab": {}
      },
      "source": [
        ""
      ],
      "execution_count": null,
      "outputs": []
    },
    {
      "cell_type": "code",
      "metadata": {
        "id": "BHfiDKnPcMsP",
        "colab_type": "code",
        "colab": {}
      },
      "source": [
        "import matplotlib.pyplot as plt"
      ],
      "execution_count": null,
      "outputs": []
    },
    {
      "cell_type": "code",
      "metadata": {
        "id": "S0WzsP1vXaiO",
        "colab_type": "code",
        "colab": {
          "base_uri": "https://localhost:8080/",
          "height": 295
        },
        "outputId": "5f87a184-7020-43a3-af7c-71b3c996a57a"
      },
      "source": [
        "plt.plot(real_stock_price, color = 'red', label = 'Real Google Stock Price')\n",
        "plt.plot(predicted_stock_price, color = 'blue', label = 'Predicted Google Stock Price')\n",
        "plt.title('Google Stock Price Prediction')\n",
        "plt.xlabel('Time')\n",
        "plt.ylabel('Google Stock Price')\n",
        "plt.legend()\n",
        "plt.show()"
      ],
      "execution_count": null,
      "outputs": [
        {
          "output_type": "display_data",
          "data": {
            "image/png": "[encoded data removed]",
            "text/plain": [
              "<Figure size 432x288 with 1 Axes>"
            ]
          },
          "metadata": {
            "tags": [],
            "needs_background": "light"
          }
        }
      ]
    },
    {
      "cell_type": "code",
      "metadata": {
        "id": "vN6-DTpec-LX",
        "colab_type": "code",
        "colab": {}
      },
      "source": [
        ""
      ],
      "execution_count": null,
      "outputs": []
    },
    {
      "cell_type": "code",
      "metadata": {
        "id": "7ILAl5-KiPG4",
        "colab_type": "code",
        "colab": {}
      },
      "source": [
        ""
      ],
      "execution_count": null,
      "outputs": []
    }
  ]
}